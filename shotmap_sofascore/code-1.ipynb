{
 "cells": [
  {
   "cell_type": "markdown",
   "metadata": {},
   "source": [
    "# TRABALHANDO COM DADOS DE FUTEBOL\n",
    "\n",
    "## Neste projeto será desenvolvido um Pitch de ataque em uma partida de futebol específica\n",
    "* Partida: SC Internacional vs Santos - 22/10/2023\n",
    "* Pitch de chutes ao gol dos Jogadores do Inter de Porto Alegre\n",
    "\n",
    "Passos:\n",
    "* Encontrar os dados necessários através do web scraping no site sofascore.com\n",
    "* Pegar CURL da API dos dados que irá utilizar\n",
    "* Fazer a requisição com o requests\n",
    "* Tratar a resposta Json da API \n",
    "* Gerar data frames para melhor análise e filtro dos dados \n",
    "* Utilizar a biblioteca mplsoccer para construir um Pitch de chutes em um \"campo\" de futebol\n",
    "* Tratar as coordenadas dos chutes no Pitch com a biblioteca matplotlib"
   ]
  },
  {
   "cell_type": "code",
   "execution_count": 4,
   "metadata": {},
   "outputs": [],
   "source": [
    "import json"
   ]
  },
  {
   "cell_type": "markdown",
   "metadata": {},
   "source": [
    "Fazendo a requisição da API Shotmap do Site"
   ]
  },
  {
   "cell_type": "code",
   "execution_count": 2,
   "metadata": {},
   "outputs": [],
   "source": [
    "import requests\n",
    "\n",
    "headers = {\n",
    "    'authority': 'api.sofascore.com',\n",
    "    'accept': '*/*',\n",
    "    'accept-language': 'pt-BR,pt;q=0.9,en-US;q=0.8,en;q=0.7',\n",
    "    'cache-control': 'max-age=0',\n",
    "    'if-none-match': 'W/\"eababef205\"',\n",
    "    'origin': 'https://www.sofascore.com',\n",
    "    'referer': 'https://www.sofascore.com/',\n",
    "    'sec-ch-ua': '\"Google Chrome\";v=\"119\", \"Chromium\";v=\"119\", \"Not?A_Brand\";v=\"24\"',\n",
    "    'sec-ch-ua-mobile': '?0',\n",
    "    'sec-ch-ua-platform': '\"Windows\"',\n",
    "    'sec-fetch-dest': 'empty',\n",
    "    'sec-fetch-mode': 'cors',\n",
    "    'sec-fetch-site': 'same-site',\n",
    "    'user-agent': 'Mozilla/5.0 (Windows NT 10.0; Win64; x64) AppleWebKit/537.36 (KHTML, like Gecko) Chrome/119.0.0.0 Safari/537.36',\n",
    "}\n",
    "\n",
    "response = requests.get('https://api.sofascore.com/api/v1/event/11067449/shotmap', headers=headers)"
   ]
  },
  {
   "cell_type": "code",
   "execution_count": 4,
   "metadata": {},
   "outputs": [
    {
     "data": {
      "text/plain": [
       "200"
      ]
     },
     "execution_count": 4,
     "metadata": {},
     "output_type": "execute_result"
    }
   ],
   "source": [
    "response.status_code"
   ]
  },
  {
   "cell_type": "code",
   "execution_count": 5,
   "metadata": {},
   "outputs": [
    {
     "name": "stdout",
     "output_type": "stream",
     "text": [
      "A resposta foi salva em resposta.json\n"
     ]
    }
   ],
   "source": [
    "if response.status_code == 200:\n",
    "    # Converte a resposta para um dicionário Python (ou lista, dependendo da estrutura)\n",
    "    shots_dados = response.json()\n",
    "\n",
    "    # Especifica o caminho do arquivo onde você deseja salvar o JSON\n",
    "    caminho_arquivo = \"resposta.json\"\n",
    "\n",
    "    # Abre o arquivo em modo de escrita\n",
    "    with open(caminho_arquivo, 'w') as arquivo:\n",
    "        # Usa a função dump para escrever os dados no arquivo em formato JSON\n",
    "        json.dump(shots_dados, arquivo)\n",
    "\n",
    "        print(f\"A resposta foi salva em {caminho_arquivo}\")\n",
    "else:\n",
    "    print(f\"A solicitação falhou com o código de status {response.status_code}\")"
   ]
  },
  {
   "cell_type": "markdown",
   "metadata": {},
   "source": [
    "Tratando o JSON da API"
   ]
  },
  {
   "cell_type": "code",
   "execution_count": 6,
   "metadata": {},
   "outputs": [
    {
     "name": "stdout",
     "output_type": "stream",
     "text": [
      "                                              shotmap\n",
      "0   {'player': {'name': 'Maurício', 'firstName': '...\n",
      "1   {'player': {'name': 'Bruno Henrique', 'slug': ...\n",
      "2   {'player': {'name': 'Carlos De Pena', 'firstNa...\n",
      "3   {'player': {'name': 'Tomás Rincón', 'slug': 't...\n",
      "4   {'player': {'name': 'Maximiliano Silvera', 'fi...\n",
      "5   {'player': {'name': 'Luiz Adriano', 'firstName...\n",
      "6   {'player': {'name': 'Enner Valencia', 'slug': ...\n",
      "7   {'player': {'name': 'Marcos Leonardo', 'firstN...\n",
      "8   {'player': {'name': 'Fabricio Bustos', 'firstN...\n",
      "9   {'player': {'name': 'Maurício', 'firstName': '...\n",
      "10  {'player': {'name': 'João Basso', 'slug': 'joa...\n",
      "11  {'player': {'name': 'Wanderson', 'firstName': ...\n",
      "12  {'player': {'name': 'Enner Valencia', 'slug': ...\n",
      "13  {'player': {'name': 'Marcos Leonardo', 'firstN...\n",
      "14  {'player': {'name': 'Kevyson', 'firstName': 'K...\n",
      "15  {'player': {'name': 'Joaquim', 'firstName': ''...\n",
      "16  {'player': {'name': 'Tomás Rincón', 'slug': 't...\n",
      "17  {'player': {'name': 'Enner Valencia', 'slug': ...\n",
      "18  {'player': {'name': 'Marcos Leonardo', 'firstN...\n",
      "19  {'player': {'name': 'Enner Valencia', 'slug': ...\n",
      "20  {'player': {'name': 'Alan Patrick', 'slug': 'a...\n",
      "21  {'player': {'name': 'Charles Aránguiz', 'slug'...\n",
      "22  {'player': {'name': 'Kevyson', 'firstName': 'K...\n"
     ]
    }
   ],
   "source": [
    "import pandas as pd\n",
    "\n",
    "# Especifica o caminho do arquivo JSON\n",
    "caminho_arquivo = \"resposta.json\"\n",
    "\n",
    "# Lê o arquivo JSON e cria um DataFrame\n",
    "df = pd.read_json(caminho_arquivo)\n",
    "\n",
    "# Exibe o DataFrame\n",
    "print(df)"
   ]
  },
  {
   "cell_type": "code",
   "execution_count": 7,
   "metadata": {},
   "outputs": [
    {
     "name": "stdout",
     "output_type": "stream",
     "text": [
      "                                              shotmap  isHome shotType  \\\n",
      "0   {'player': {'name': 'Maurício', 'firstName': '...    True     miss   \n",
      "1   {'player': {'name': 'Bruno Henrique', 'slug': ...    True    block   \n",
      "2   {'player': {'name': 'Carlos De Pena', 'firstNa...    True    block   \n",
      "3   {'player': {'name': 'Tomás Rincón', 'slug': 't...   False     post   \n",
      "4   {'player': {'name': 'Maximiliano Silvera', 'fi...   False     goal   \n",
      "5   {'player': {'name': 'Luiz Adriano', 'firstName...    True     goal   \n",
      "6   {'player': {'name': 'Enner Valencia', 'slug': ...    True     goal   \n",
      "7   {'player': {'name': 'Marcos Leonardo', 'firstN...   False     post   \n",
      "8   {'player': {'name': 'Fabricio Bustos', 'firstN...    True     goal   \n",
      "9   {'player': {'name': 'Maurício', 'firstName': '...    True    block   \n",
      "10  {'player': {'name': 'João Basso', 'slug': 'joa...   False     miss   \n",
      "11  {'player': {'name': 'Wanderson', 'firstName': ...    True     goal   \n",
      "12  {'player': {'name': 'Enner Valencia', 'slug': ...    True     save   \n",
      "13  {'player': {'name': 'Marcos Leonardo', 'firstN...   False     miss   \n",
      "14  {'player': {'name': 'Kevyson', 'firstName': 'K...   False     save   \n",
      "15  {'player': {'name': 'Joaquim', 'firstName': ''...   False     miss   \n",
      "16  {'player': {'name': 'Tomás Rincón', 'slug': 't...   False     post   \n",
      "17  {'player': {'name': 'Enner Valencia', 'slug': ...    True     goal   \n",
      "18  {'player': {'name': 'Marcos Leonardo', 'firstN...   False     save   \n",
      "19  {'player': {'name': 'Enner Valencia', 'slug': ...    True     miss   \n",
      "20  {'player': {'name': 'Alan Patrick', 'slug': 'a...    True     goal   \n",
      "21  {'player': {'name': 'Charles Aránguiz', 'slug'...    True     miss   \n",
      "22  {'player': {'name': 'Kevyson', 'firstName': 'K...    True     goal   \n",
      "\n",
      "     situation    bodyPart goalMouthLocation        xg       id  time  \\\n",
      "0     assisted   left-foot              left  0.022257  2283042    88   \n",
      "1    set-piece  right-foot          low-left  0.017801  2283036    83   \n",
      "2    free-kick   left-foot        low-centre  0.031442  2283028    83   \n",
      "3       corner  right-foot              left  0.176280  2283019    80   \n",
      "4       corner   left-foot        low-centre  0.985073  2283018    80   \n",
      "5     assisted  right-foot        low-centre  0.071551  2282974    75   \n",
      "6     assisted  right-foot          low-left  0.025515  2282921    61   \n",
      "7     assisted  right-foot              high  0.061590  2282912    59   \n",
      "8     assisted  right-foot          low-left  0.014760  2282894    54   \n",
      "9      regular  right-foot          low-left  0.311469  2282839    45   \n",
      "10      corner  right-foot              high  0.084607  2282833    43   \n",
      "11    assisted  right-foot        low-centre  0.396884  2282824    39   \n",
      "12    assisted  right-foot        low-centre  0.139869  2282816    36   \n",
      "13   free-kick  right-foot        high-right  0.056413  2282808    34   \n",
      "14      corner   left-foot       high-centre  0.023371  2282803    30   \n",
      "15      corner        head              left  0.068872  2282805    30   \n",
      "16      corner  right-foot              left  0.108149  2282801    30   \n",
      "17    assisted  right-foot         low-right  0.167506  2282787    27   \n",
      "18      corner        head        high-right  0.211000  2282762    19   \n",
      "19  fast-break  right-foot        close-high  0.297008  2282749    17   \n",
      "20     regular  right-foot          low-left  0.054957  2282735    14   \n",
      "21    assisted  right-foot              left  0.059642  2282703     6   \n",
      "22     regular  right-foot         low-right       NaN  2282692     1   \n",
      "\n",
      "    timeSeconds  ...  draw.end.y  draw.goal.x draw.goal.y blockCoordinates.x  \\\n",
      "0          5243  ...           0         38.2        73.6                NaN   \n",
      "1          4956  ...           0         48.2        81.0               10.5   \n",
      "2          4952  ...           0         48.3        81.0               17.5   \n",
      "3          4745  ...           0         44.8        81.6                NaN   \n",
      "4          4746  ...           0         49.0        86.7                NaN   \n",
      "5          4491  ...           0         50.5        95.6                NaN   \n",
      "6          3620  ...           0         48.0        82.9                NaN   \n",
      "7          3511  ...           0         52.9        59.5                NaN   \n",
      "8          3205  ...           0         46.8        96.8                NaN   \n",
      "9          2666  ...           0         46.9        93.1                7.9   \n",
      "10         2556  ...           0         48.7         5.6                NaN   \n",
      "11         2287  ...           0         51.7        89.2                NaN   \n",
      "12         2136  ...           0         48.7        82.9                2.2   \n",
      "13         1999  ...           0         57.5        37.5                NaN   \n",
      "14         1765  ...           0         49.0        64.6                1.2   \n",
      "15         1762  ...           0         34.1        93.1                4.4   \n",
      "16         1763  ...           0         44.6        95.6                NaN   \n",
      "17         1612  ...           0         52.9        97.5                NaN   \n",
      "18         1136  ...           0         53.7        74.1                0.5   \n",
      "19          979  ...           0         52.3        40.3                NaN   \n",
      "20          785  ...           0         47.2        86.7                NaN   \n",
      "21          312  ...           0         27.4        88.9                NaN   \n",
      "22           54  ...           0         52.9        97.5                NaN   \n",
      "\n",
      "   blockCoordinates.y blockCoordinates.z draw.block.x draw.block.y goalType  \\\n",
      "0                 NaN                NaN          NaN          NaN      NaN   \n",
      "1                34.5                0.0         34.5         10.5      NaN   \n",
      "2                57.8                0.0         57.8         17.5      NaN   \n",
      "3                 NaN                NaN          NaN          NaN      NaN   \n",
      "4                 NaN                NaN          NaN          NaN  regular   \n",
      "5                 NaN                NaN          NaN          NaN  regular   \n",
      "6                 NaN                NaN          NaN          NaN  regular   \n",
      "7                 NaN                NaN          NaN          NaN      NaN   \n",
      "8                 NaN                NaN          NaN          NaN  regular   \n",
      "9                48.4                0.0         48.4          7.9      NaN   \n",
      "10                NaN                NaN          NaN          NaN      NaN   \n",
      "11                NaN                NaN          NaN          NaN  regular   \n",
      "12               43.1                0.0         43.1          2.2      NaN   \n",
      "13                NaN                NaN          NaN          NaN      NaN   \n",
      "14               48.0                0.0         48.0          1.2      NaN   \n",
      "15               39.9                0.0         39.9          4.4      NaN   \n",
      "16                NaN                NaN          NaN          NaN      NaN   \n",
      "17                NaN                NaN          NaN          NaN  regular   \n",
      "18               51.1                0.0         51.1          0.5      NaN   \n",
      "19                NaN                NaN          NaN          NaN      NaN   \n",
      "20                NaN                NaN          NaN          NaN  regular   \n",
      "21                NaN                NaN          NaN          NaN      NaN   \n",
      "22                NaN                NaN          NaN          NaN      own   \n",
      "\n",
      "      xgot  \n",
      "0      NaN  \n",
      "1      NaN  \n",
      "2      NaN  \n",
      "3      NaN  \n",
      "4   0.9515  \n",
      "5   0.0334  \n",
      "6   0.0573  \n",
      "7      NaN  \n",
      "8   0.2975  \n",
      "9      NaN  \n",
      "10     NaN  \n",
      "11  0.6894  \n",
      "12  0.4114  \n",
      "13     NaN  \n",
      "14  0.1007  \n",
      "15     NaN  \n",
      "16     NaN  \n",
      "17  0.8801  \n",
      "18  0.4277  \n",
      "19     NaN  \n",
      "20  0.1301  \n",
      "21     NaN  \n",
      "22     NaN  \n",
      "\n",
      "[23 rows x 40 columns]\n"
     ]
    }
   ],
   "source": [
    "df = pd.DataFrame(df)\n",
    "\n",
    "# Aplica a função json_normalize para extrair os dados JSON em colunas\n",
    "df_normalized = pd.json_normalize(df['shotmap'])\n",
    "\n",
    "# Concatena o DataFrame original com o DataFrame normalizado\n",
    "df_final = pd.concat([df, df_normalized], axis=1)\n",
    "\n",
    "# Remove a coluna original com dados JSON\n",
    "#df_final = df_final.drop('shotmap', axis=1)\n",
    "\n",
    "# Exibe o DataFrame final\n",
    "print(df_final)\n"
   ]
  },
  {
   "cell_type": "markdown",
   "metadata": {},
   "source": [
    "Selecionando as colunas que serão utilizadas no Data Frame"
   ]
  },
  {
   "cell_type": "code",
   "execution_count": 8,
   "metadata": {},
   "outputs": [
    {
     "name": "stdout",
     "output_type": "stream",
     "text": [
      "             Jogador Tipo de Chute    Situação  Tempo\n",
      "0           Maurício          miss    assisted     88\n",
      "1     Bruno Henrique         block   set-piece     83\n",
      "2     Carlos De Pena         block   free-kick     83\n",
      "3       Luiz Adriano          goal    assisted     75\n",
      "4     Enner Valencia          goal    assisted     61\n",
      "5    Fabricio Bustos          goal    assisted     54\n",
      "6           Maurício         block     regular     45\n",
      "7          Wanderson          goal    assisted     39\n",
      "8     Enner Valencia          save    assisted     36\n",
      "9     Enner Valencia          goal    assisted     27\n",
      "10    Enner Valencia          miss  fast-break     17\n",
      "11      Alan Patrick          goal     regular     14\n",
      "12  Charles Aránguiz          miss    assisted      6\n",
      "13           Kevyson          goal     regular      1\n"
     ]
    }
   ],
   "source": [
    "# Abre o arquivo \"resposta.json\" e lê o conteúdo\n",
    "with open('resposta.json', 'r') as file:\n",
    "    json_data = json.load(file)\n",
    "\n",
    "# A parte relevante do JSON está em 'shotmap'\n",
    "data = json_data['shotmap']\n",
    "\n",
    "# Seleciona colunas relevantes\n",
    "selected_columns = [\n",
    "    {'Jogador': item['player']['name'],\n",
    "     'Tipo de Chute': item['shotType'],\n",
    "     'Situação': item['situation'],\n",
    "     'Tempo': item['time']}\n",
    "    for item in data if item.get('isHome', True)  # Somente se \"isHome\" for verdadeiro\n",
    "]\n",
    "\n",
    "# Converte a lista de dicionários em um DataFrame\n",
    "df = pd.DataFrame(selected_columns)\n",
    "\n",
    "# Exibe o DataFrame\n",
    "print(df)"
   ]
  },
  {
   "cell_type": "code",
   "execution_count": 10,
   "metadata": {},
   "outputs": [
    {
     "name": "stdout",
     "output_type": "stream",
     "text": [
      "             Jogador Finalização  Coordenada X  Coordenada Y Local do Gol\n",
      "0           Maurício        miss          22.4          39.2         left\n",
      "1     Bruno Henrique       block          12.5          31.8     low-left\n",
      "2     Carlos De Pena       block          26.6          62.7   low-centre\n",
      "3       Luiz Adriano        goal          12.1          60.9   low-centre\n",
      "4     Enner Valencia        goal          14.7          28.9     low-left\n",
      "5    Fabricio Bustos        goal          21.4          67.8     low-left\n",
      "6           Maurício       block          11.1          47.8     low-left\n",
      "7          Wanderson        goal           8.5          36.7   low-centre\n",
      "8     Enner Valencia        save           2.8          42.1   low-centre\n",
      "9     Enner Valencia        goal          11.0          41.9    low-right\n",
      "10    Enner Valencia        miss           8.8          65.5   close-high\n",
      "11      Alan Patrick        goal          19.4          57.5     low-left\n",
      "12  Charles Aránguiz        miss          23.5          54.4         left\n",
      "13           Kevyson        goal           2.8          53.2    low-right\n"
     ]
    }
   ],
   "source": [
    "with open('resposta.json', 'r') as file:\n",
    "    json_data = json.load(file)\n",
    "\n",
    "data = json_data['shotmap']\n",
    "\n",
    "selected_columns = [\n",
    "    {'Jogador': item['player']['name'],\n",
    "     'Finalização': item['shotType'],\n",
    "     'Coordenada X': item['playerCoordinates']['x'],\n",
    "     'Coordenada Y': item['playerCoordinates']['y'],\n",
    "     'Local do Gol': item['goalMouthLocation']}\n",
    "    for item in data if item.get('isHome', True)  \n",
    "]\n",
    "\n",
    "df = pd.DataFrame(selected_columns)\n",
    "print(df)"
   ]
  },
  {
   "cell_type": "markdown",
   "metadata": {},
   "source": [
    "Salvando o data frame em arquivo CSV para melhor visualização e utilização dos dados "
   ]
  },
  {
   "cell_type": "code",
   "execution_count": 11,
   "metadata": {},
   "outputs": [],
   "source": [
    "# Salva o DataFrame em um arquivo CSV chamado \"output.csv\"\n",
    "df.to_csv('output.csv', index=False)"
   ]
  },
  {
   "cell_type": "code",
   "execution_count": 12,
   "metadata": {},
   "outputs": [
    {
     "data": {
      "text/html": [
       "<div>\n",
       "<style scoped>\n",
       "    .dataframe tbody tr th:only-of-type {\n",
       "        vertical-align: middle;\n",
       "    }\n",
       "\n",
       "    .dataframe tbody tr th {\n",
       "        vertical-align: top;\n",
       "    }\n",
       "\n",
       "    .dataframe thead th {\n",
       "        text-align: right;\n",
       "    }\n",
       "</style>\n",
       "<table border=\"1\" class=\"dataframe\">\n",
       "  <thead>\n",
       "    <tr style=\"text-align: right;\">\n",
       "      <th></th>\n",
       "      <th>Jogador</th>\n",
       "      <th>Finalização</th>\n",
       "      <th>Coordenada X</th>\n",
       "      <th>Coordenada Y</th>\n",
       "      <th>Local do Gol</th>\n",
       "    </tr>\n",
       "  </thead>\n",
       "  <tbody>\n",
       "    <tr>\n",
       "      <th>0</th>\n",
       "      <td>Maurício</td>\n",
       "      <td>miss</td>\n",
       "      <td>22.4</td>\n",
       "      <td>39.2</td>\n",
       "      <td>left</td>\n",
       "    </tr>\n",
       "    <tr>\n",
       "      <th>1</th>\n",
       "      <td>Bruno Henrique</td>\n",
       "      <td>block</td>\n",
       "      <td>12.5</td>\n",
       "      <td>31.8</td>\n",
       "      <td>low-left</td>\n",
       "    </tr>\n",
       "    <tr>\n",
       "      <th>2</th>\n",
       "      <td>Carlos De Pena</td>\n",
       "      <td>block</td>\n",
       "      <td>26.6</td>\n",
       "      <td>62.7</td>\n",
       "      <td>low-centre</td>\n",
       "    </tr>\n",
       "    <tr>\n",
       "      <th>3</th>\n",
       "      <td>Luiz Adriano</td>\n",
       "      <td>goal</td>\n",
       "      <td>12.1</td>\n",
       "      <td>60.9</td>\n",
       "      <td>low-centre</td>\n",
       "    </tr>\n",
       "    <tr>\n",
       "      <th>4</th>\n",
       "      <td>Enner Valencia</td>\n",
       "      <td>goal</td>\n",
       "      <td>14.7</td>\n",
       "      <td>28.9</td>\n",
       "      <td>low-left</td>\n",
       "    </tr>\n",
       "    <tr>\n",
       "      <th>5</th>\n",
       "      <td>Fabricio Bustos</td>\n",
       "      <td>goal</td>\n",
       "      <td>21.4</td>\n",
       "      <td>67.8</td>\n",
       "      <td>low-left</td>\n",
       "    </tr>\n",
       "    <tr>\n",
       "      <th>6</th>\n",
       "      <td>Maurício</td>\n",
       "      <td>block</td>\n",
       "      <td>11.1</td>\n",
       "      <td>47.8</td>\n",
       "      <td>low-left</td>\n",
       "    </tr>\n",
       "    <tr>\n",
       "      <th>7</th>\n",
       "      <td>Wanderson</td>\n",
       "      <td>goal</td>\n",
       "      <td>8.5</td>\n",
       "      <td>36.7</td>\n",
       "      <td>low-centre</td>\n",
       "    </tr>\n",
       "    <tr>\n",
       "      <th>8</th>\n",
       "      <td>Enner Valencia</td>\n",
       "      <td>save</td>\n",
       "      <td>2.8</td>\n",
       "      <td>42.1</td>\n",
       "      <td>low-centre</td>\n",
       "    </tr>\n",
       "    <tr>\n",
       "      <th>9</th>\n",
       "      <td>Enner Valencia</td>\n",
       "      <td>goal</td>\n",
       "      <td>11.0</td>\n",
       "      <td>41.9</td>\n",
       "      <td>low-right</td>\n",
       "    </tr>\n",
       "    <tr>\n",
       "      <th>10</th>\n",
       "      <td>Enner Valencia</td>\n",
       "      <td>miss</td>\n",
       "      <td>8.8</td>\n",
       "      <td>65.5</td>\n",
       "      <td>close-high</td>\n",
       "    </tr>\n",
       "    <tr>\n",
       "      <th>11</th>\n",
       "      <td>Alan Patrick</td>\n",
       "      <td>goal</td>\n",
       "      <td>19.4</td>\n",
       "      <td>57.5</td>\n",
       "      <td>low-left</td>\n",
       "    </tr>\n",
       "    <tr>\n",
       "      <th>12</th>\n",
       "      <td>Charles Aránguiz</td>\n",
       "      <td>miss</td>\n",
       "      <td>23.5</td>\n",
       "      <td>54.4</td>\n",
       "      <td>left</td>\n",
       "    </tr>\n",
       "    <tr>\n",
       "      <th>13</th>\n",
       "      <td>Kevyson</td>\n",
       "      <td>goal</td>\n",
       "      <td>2.8</td>\n",
       "      <td>53.2</td>\n",
       "      <td>low-right</td>\n",
       "    </tr>\n",
       "  </tbody>\n",
       "</table>\n",
       "</div>"
      ],
      "text/plain": [
       "             Jogador Finalização  Coordenada X  Coordenada Y Local do Gol\n",
       "0           Maurício        miss          22.4          39.2         left\n",
       "1     Bruno Henrique       block          12.5          31.8     low-left\n",
       "2     Carlos De Pena       block          26.6          62.7   low-centre\n",
       "3       Luiz Adriano        goal          12.1          60.9   low-centre\n",
       "4     Enner Valencia        goal          14.7          28.9     low-left\n",
       "5    Fabricio Bustos        goal          21.4          67.8     low-left\n",
       "6           Maurício       block          11.1          47.8     low-left\n",
       "7          Wanderson        goal           8.5          36.7   low-centre\n",
       "8     Enner Valencia        save           2.8          42.1   low-centre\n",
       "9     Enner Valencia        goal          11.0          41.9    low-right\n",
       "10    Enner Valencia        miss           8.8          65.5   close-high\n",
       "11      Alan Patrick        goal          19.4          57.5     low-left\n",
       "12  Charles Aránguiz        miss          23.5          54.4         left\n",
       "13           Kevyson        goal           2.8          53.2    low-right"
      ]
     },
     "execution_count": 12,
     "metadata": {},
     "output_type": "execute_result"
    }
   ],
   "source": [
    "text_color = 'w'\n",
    "data = pd.read_csv(\"output.csv\")\n",
    "data"
   ]
  },
  {
   "cell_type": "markdown",
   "metadata": {},
   "source": [
    "Criando Pitch por meio das coordenadas X e Y dos chutes "
   ]
  },
  {
   "cell_type": "code",
   "execution_count": 20,
   "metadata": {},
   "outputs": [],
   "source": [
    "import matplotlib.pyplot as plt\n",
    "\n",
    "from mplsoccer import Pitch #,VerticalPitch caso seja necessário"
   ]
  },
  {
   "cell_type": "code",
   "execution_count": 53,
   "metadata": {},
   "outputs": [
    {
     "data": {
      "text/plain": [
       "Text(0.5, 1.0, 'SC Internacional Shots X Santos - 22/10/2023')"
      ]
     },
     "execution_count": 53,
     "metadata": {},
     "output_type": "execute_result"
    },
    {
     "data": {
      "image/png": "[encoded data removed]",
      "text/plain": [
       "<Figure size 640x480 with 1 Axes>"
      ]
     },
     "metadata": {},
     "output_type": "display_data"
    }
   ],
   "source": [
    "\n",
    "pitch = Pitch(pitch_color='#22312b', line_color='white')\n",
    "fig, ax = pitch.draw()\n",
    "\n",
    "plt.gca().invert_xaxis()\n",
    "plt.scatter(data[\"Coordenada X\"],data[\"Coordenada Y\"],c=\"#ea6969\",s=70,alpha=1)\n",
    "\n",
    "plt.title(\"SC Internacional Shots X Santos - 22/10/2023\", fontsize=10)"
   ]
  }
 ],
 "metadata": {
  "kernelspec": {
   "display_name": "Python 3",
   "language": "python",
   "name": "python3"
  },
  "language_info": {
   "codemirror_mode": {
    "name": "ipython",
    "version": 3
   },
   "file_extension": ".py",
   "mimetype": "text/x-python",
   "name": "python",
   "nbconvert_exporter": "python",
   "pygments_lexer": "ipython3",
   "version": "3.11.5"
  }
 },
 "nbformat": 4,
 "nbformat_minor": 2
}
